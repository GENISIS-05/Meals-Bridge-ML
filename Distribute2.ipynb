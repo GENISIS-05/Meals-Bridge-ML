{
 "cells": [
  {
   "cell_type": "code",
   "execution_count": 1,
   "id": "c6fc4ab6",
   "metadata": {},
   "outputs": [],
   "source": [
    "import pandas as pd\n",
    "import matplotlib.pyplot as plt\n",
    "import seaborn as sns\n",
    "import numpy as np\n",
    "%matplotlib inline"
   ]
  },
  {
   "cell_type": "code",
   "execution_count": 2,
   "id": "6ee823d4",
   "metadata": {},
   "outputs": [],
   "source": [
    "df = pd.read_csv('slums_data.csv')"
   ]
  },
  {
   "cell_type": "code",
   "execution_count": 3,
   "id": "5d0fe348",
   "metadata": {},
   "outputs": [
    {
     "data": {
      "text/html": [
       "<div>\n",
       "<style scoped>\n",
       "    .dataframe tbody tr th:only-of-type {\n",
       "        vertical-align: middle;\n",
       "    }\n",
       "\n",
       "    .dataframe tbody tr th {\n",
       "        vertical-align: top;\n",
       "    }\n",
       "\n",
       "    .dataframe thead th {\n",
       "        text-align: right;\n",
       "    }\n",
       "</style>\n",
       "<table border=\"1\" class=\"dataframe\">\n",
       "  <thead>\n",
       "    <tr style=\"text-align: right;\">\n",
       "      <th></th>\n",
       "      <th>Location</th>\n",
       "      <th>Men</th>\n",
       "      <th>Kids</th>\n",
       "      <th>Women</th>\n",
       "      <th>Total</th>\n",
       "      <th>Category</th>\n",
       "    </tr>\n",
       "  </thead>\n",
       "  <tbody>\n",
       "    <tr>\n",
       "      <th>0</th>\n",
       "      <td>Lingipur</td>\n",
       "      <td>100</td>\n",
       "      <td>36</td>\n",
       "      <td>71</td>\n",
       "      <td>207</td>\n",
       "      <td>Low</td>\n",
       "    </tr>\n",
       "    <tr>\n",
       "      <th>1</th>\n",
       "      <td>Mahabhoisasan</td>\n",
       "      <td>87</td>\n",
       "      <td>37</td>\n",
       "      <td>145</td>\n",
       "      <td>269</td>\n",
       "      <td>Low</td>\n",
       "    </tr>\n",
       "    <tr>\n",
       "      <th>2</th>\n",
       "      <td>Bahadalpur (og)</td>\n",
       "      <td>137</td>\n",
       "      <td>113</td>\n",
       "      <td>133</td>\n",
       "      <td>383</td>\n",
       "      <td>High</td>\n",
       "    </tr>\n",
       "    <tr>\n",
       "      <th>3</th>\n",
       "      <td>Bankual(og)</td>\n",
       "      <td>65</td>\n",
       "      <td>44</td>\n",
       "      <td>144</td>\n",
       "      <td>253</td>\n",
       "      <td>Low</td>\n",
       "    </tr>\n",
       "    <tr>\n",
       "      <th>4</th>\n",
       "      <td>Industrial &amp; Colony Area (og) (ward 61)</td>\n",
       "      <td>176</td>\n",
       "      <td>62</td>\n",
       "      <td>113</td>\n",
       "      <td>351</td>\n",
       "      <td>Medium</td>\n",
       "    </tr>\n",
       "  </tbody>\n",
       "</table>\n",
       "</div>"
      ],
      "text/plain": [
       "                                  Location  Men  Kids  Women  Total Category\n",
       "0                                 Lingipur  100    36     71    207      Low\n",
       "1                            Mahabhoisasan   87    37    145    269      Low\n",
       "2                          Bahadalpur (og)  137   113    133    383     High\n",
       "3                              Bankual(og)   65    44    144    253      Low\n",
       "4  Industrial & Colony Area (og) (ward 61)  176    62    113    351   Medium"
      ]
     },
     "execution_count": 3,
     "metadata": {},
     "output_type": "execute_result"
    }
   ],
   "source": [
    "df.head()"
   ]
  },
  {
   "cell_type": "code",
   "execution_count": 4,
   "id": "8d72e6c5",
   "metadata": {},
   "outputs": [
    {
     "name": "stdout",
     "output_type": "stream",
     "text": [
      "The 5 values with the minimum differences from 10 are: [12, 8, 7, 15, 5]\n"
     ]
    }
   ],
   "source": [
    "def find_min_differences(target_number, values):\n",
    "    differences = [(value, abs(target_number - value)) for value in values]\n",
    "    sorted_differences = sorted(differences, key=lambda x: x[1])\n",
    "    min_diff_values = [item[0] for item in sorted_differences[:5]]\n",
    "\n",
    "    return min_diff_values\n",
    "\n",
    "# Example usage:\n",
    "target_number = 10\n",
    "my_values = [2, 7, 15, 5, 12, 8, 18, 3]\n",
    "result = find_min_differences(target_number, my_values)\n",
    "\n",
    "print(f\"The 5 values with the minimum differences from {target_number} are: {result}\")"
   ]
  },
  {
   "cell_type": "code",
   "execution_count": 5,
   "id": "b3165bba",
   "metadata": {},
   "outputs": [
    {
     "data": {
      "text/plain": [
       "[262, 269, 261, 270, 271]"
      ]
     },
     "execution_count": 5,
     "metadata": {},
     "output_type": "execute_result"
    }
   ],
   "source": [
    "find_min_differences(265,df['Total'])"
   ]
  },
  {
   "cell_type": "code",
   "execution_count": 7,
   "id": "89f93998",
   "metadata": {},
   "outputs": [
    {
     "data": {
      "text/html": [
       "<div>\n",
       "<style scoped>\n",
       "    .dataframe tbody tr th:only-of-type {\n",
       "        vertical-align: middle;\n",
       "    }\n",
       "\n",
       "    .dataframe tbody tr th {\n",
       "        vertical-align: top;\n",
       "    }\n",
       "\n",
       "    .dataframe thead th {\n",
       "        text-align: right;\n",
       "    }\n",
       "</style>\n",
       "<table border=\"1\" class=\"dataframe\">\n",
       "  <thead>\n",
       "    <tr style=\"text-align: right;\">\n",
       "      <th></th>\n",
       "      <th>Location</th>\n",
       "      <th>Men</th>\n",
       "      <th>Kids</th>\n",
       "      <th>Women</th>\n",
       "      <th>Total</th>\n",
       "      <th>Category</th>\n",
       "    </tr>\n",
       "  </thead>\n",
       "  <tbody>\n",
       "    <tr>\n",
       "      <th>1</th>\n",
       "      <td>Mahabhoisasan</td>\n",
       "      <td>87</td>\n",
       "      <td>37</td>\n",
       "      <td>145</td>\n",
       "      <td>269</td>\n",
       "      <td>Low</td>\n",
       "    </tr>\n",
       "    <tr>\n",
       "      <th>18</th>\n",
       "      <td>Bhagabatipur</td>\n",
       "      <td>73</td>\n",
       "      <td>53</td>\n",
       "      <td>145</td>\n",
       "      <td>271</td>\n",
       "      <td>Low</td>\n",
       "    </tr>\n",
       "    <tr>\n",
       "      <th>31</th>\n",
       "      <td>Haridamada</td>\n",
       "      <td>116</td>\n",
       "      <td>33</td>\n",
       "      <td>113</td>\n",
       "      <td>262</td>\n",
       "      <td>Low</td>\n",
       "    </tr>\n",
       "    <tr>\n",
       "      <th>42</th>\n",
       "      <td>Paikarapur</td>\n",
       "      <td>126</td>\n",
       "      <td>54</td>\n",
       "      <td>90</td>\n",
       "      <td>270</td>\n",
       "      <td>Low</td>\n",
       "    </tr>\n",
       "    <tr>\n",
       "      <th>55</th>\n",
       "      <td>Barimunda</td>\n",
       "      <td>110</td>\n",
       "      <td>57</td>\n",
       "      <td>94</td>\n",
       "      <td>261</td>\n",
       "      <td>Low</td>\n",
       "    </tr>\n",
       "  </tbody>\n",
       "</table>\n",
       "</div>"
      ],
      "text/plain": [
       "         Location  Men  Kids  Women  Total Category\n",
       "1   Mahabhoisasan   87    37    145    269      Low\n",
       "18   Bhagabatipur   73    53    145    271      Low\n",
       "31     Haridamada  116    33    113    262      Low\n",
       "42     Paikarapur  126    54     90    270      Low\n",
       "55      Barimunda  110    57     94    261      Low"
      ]
     },
     "execution_count": 7,
     "metadata": {},
     "output_type": "execute_result"
    }
   ],
   "source": [
    "df[df['Total'].isin([262, 269, 261, 270, 271])]"
   ]
  },
  {
   "cell_type": "code",
   "execution_count": 8,
   "id": "b680158f",
   "metadata": {},
   "outputs": [
    {
     "data": {
      "text/plain": [
       "1     Mahabhoisasan\n",
       "18     Bhagabatipur\n",
       "31       Haridamada\n",
       "42       Paikarapur\n",
       "55        Barimunda\n",
       "Name: Location, dtype: object"
      ]
     },
     "execution_count": 8,
     "metadata": {},
     "output_type": "execute_result"
    }
   ],
   "source": [
    "df[df['Total'].isin([262, 269, 261, 270, 271])]['Location']"
   ]
  },
  {
   "cell_type": "code",
   "execution_count": null,
   "id": "67ee4e88",
   "metadata": {},
   "outputs": [],
   "source": []
  }
 ],
 "metadata": {
  "kernelspec": {
   "display_name": "Python 3 (ipykernel)",
   "language": "python",
   "name": "python3"
  },
  "language_info": {
   "codemirror_mode": {
    "name": "ipython",
    "version": 3
   },
   "file_extension": ".py",
   "mimetype": "text/x-python",
   "name": "python",
   "nbconvert_exporter": "python",
   "pygments_lexer": "ipython3",
   "version": "3.9.0"
  }
 },
 "nbformat": 4,
 "nbformat_minor": 5
}
